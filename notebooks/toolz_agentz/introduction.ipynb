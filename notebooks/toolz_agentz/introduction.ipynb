{
 "cells": [
  {
   "cell_type": "code",
   "execution_count": 1,
   "metadata": {},
   "outputs": [],
   "source": [
    "from keys import load_api_keys\n",
    "load_api_keys()\n",
    "import os"
   ]
  },
  {
   "cell_type": "markdown",
   "metadata": {},
   "source": [
    "SerpAPI"
   ]
  },
  {
   "cell_type": "code",
   "execution_count": 2,
   "metadata": {},
   "outputs": [
    {
     "name": "stderr",
     "output_type": "stream",
     "text": [
      "/tmp/ipykernel_29870/2544276154.py:6: LangChainDeprecationWarning: The class `OpenAI` was deprecated in LangChain 0.0.10 and will be removed in 1.0. An updated version of the class exists in the :class:`~langchain-openai package and should be used instead. To use it run `pip install -U :class:`~langchain-openai` and import as `from :class:`~langchain_openai import OpenAI``.\n",
      "  llm = OpenAI(model_name=\"gpt-3.5-turbo-instruct\", temperature=0)\n",
      "/tmp/ipykernel_29870/2544276154.py:8: LangChainDeprecationWarning: LangChain agents will continue to be supported, but it is recommended for new use cases to be built with LangGraph. LangGraph offers a more flexible and full-featured framework for building agents, including support for tool-calling, persistence of state, and human-in-the-loop workflows. For details, refer to the `LangGraph documentation <https://langchain-ai.github.io/langgraph/>`_ as well as guides for `Migrating from AgentExecutor <https://python.langchain.com/docs/how_to/migrate_agent/>`_ and LangGraph's `Pre-built ReAct agent <https://langchain-ai.github.io/langgraph/how-tos/create-react-agent/>`_.\n",
      "  agent = initialize_agent(tools, llm, agent=AgentType.ZERO_SHOT_REACT_DESCRIPTION, handle_parsing_errors=True, verbose=True)\n"
     ]
    }
   ],
   "source": [
    "from langchain.agents import load_tools\n",
    "from langchain.agents import initialize_agent\n",
    "from langchain.agents import AgentType\n",
    "from langchain import OpenAI\n",
    "\n",
    "llm = OpenAI(model_name=\"gpt-3.5-turbo-instruct\", temperature=0)\n",
    "tools = load_tools(['serpapi', 'requests_all'], llm=llm, serpapi_api_key=os.environ[\"SERPAPI_KEY\"], allow_dangerous_tools=True)\n",
    "agent = initialize_agent(tools, llm, agent=AgentType.ZERO_SHOT_REACT_DESCRIPTION, handle_parsing_errors=True, verbose=True)"
   ]
  },
  {
   "cell_type": "code",
   "execution_count": 5,
   "metadata": {},
   "outputs": [
    {
     "name": "stdout",
     "output_type": "stream",
     "text": [
      "\n",
      "\n",
      "\u001b[1m> Entering new AgentExecutor chain...\u001b[0m\n",
      "\u001b[32;1m\u001b[1;3m I should use a search engine to find information about Age of Empires 3.\n",
      "Action: Search\n",
      "Action Input: \"best german build order in Age of Empires 3\"\u001b[0m\n",
      "Observation: \u001b[36;1m\u001b[1;3m['This guide has for purpose to help new players as well as more experienced players, to learn or improve their German gameplay.', 'The core of german strategy at high levels is based around a powerful early age 3 push using the 4 shipments. Upvote 6. Downvote Reply reply', 'The Germans gain free Uhlans with every shipment, allowing them to build up their cavalry quickly. This allows them to rush enemy colonies very quickly.', \"With the Build Order tool, you'll be able to strategize and execute your moves flawlessly, right from the start. No more stumbling around in the ...\", 'I would suggest about 5 canon + 5 dopple + 10 or 15 war wagons (1-1-2/3) ratio. quite achivable mid-fortress by using 5 dopp and 3ww shipment or just do dopple ...', 'Build Order: Standard discovery age, age up with 400 wood (as always. The nice thing about all strats listed here is that you can easily switch ...', \"Today we're going to be doing some German mercenary play I think it'll be pretty fun.\", 'From fun to very competitive build orders, but also comprehensive guides, there should be (almost :slight_smile: ) everything you need to learn more about the ...', 'The return of 180hp Uhlan. It was done before by ESOC (maybe add +5%hp to the age 4 Uhlan combat card to compensate). Keep in mind with the +5 ...']\u001b[0m\n",
      "Thought:\u001b[32;1m\u001b[1;3m I should read through the different strategies and see which one is the most commonly recommended.\n",
      "Action: Read through the search results\n",
      "Action Input: None\u001b[0m\n",
      "Observation: Read through the search results is not a valid tool, try one of [Search, requests_get, requests_post, requests_patch, requests_put, requests_delete].\n",
      "Thought:\u001b[32;1m\u001b[1;3m I should use a search engine to find information about Age of Empires 3.\n",
      "Action: Search\n",
      "Action Input: \"best german build order in Age of Empires 3\"\u001b[0m\n",
      "Observation: \u001b[36;1m\u001b[1;3m['This guide has for purpose to help new players as well as more experienced players, to learn or improve their German gameplay.', 'The core of german strategy at high levels is based around a powerful early age 3 push using the 4 shipments. Upvote 6. Downvote Reply reply', 'The Germans gain free Uhlans with every shipment, allowing them to build up their cavalry quickly. This allows them to rush enemy colonies very quickly.', \"With the Build Order tool, you'll be able to strategize and execute your moves flawlessly, right from the start. No more stumbling around in the ...\", 'I would suggest about 5 canon + 5 dopple + 10 or 15 war wagons (1-1-2/3) ratio. quite achivable mid-fortress by using 5 dopp and 3ww shipment or just do dopple ...', 'Build Order: Standard discovery age, age up with 400 wood (as always. The nice thing about all strats listed here is that you can easily switch ...', \"Today we're going to be doing some German mercenary play I think it'll be pretty fun.\", 'From fun to very competitive build orders, but also comprehensive guides, there should be (almost :slight_smile: ) everything you need to learn more about the ...', 'The return of 180hp Uhlan. It was done before by ESOC (maybe add +5%hp to the age 4 Uhlan combat card to compensate). Keep in mind with the +5 ...']\u001b[0m\n",
      "Thought:\u001b[32;1m\u001b[1;3m I should read through the different strategies and see which one is the most commonly recommended.\n",
      "Action: Search\n",
      "Action Input: \"best german build order in Age of Empires 3\"\u001b[0m\n",
      "Observation: \u001b[36;1m\u001b[1;3m['This guide has for purpose to help new players as well as more experienced players, to learn or improve their German gameplay.', 'The core of german strategy at high levels is based around a powerful early age 3 push using the 4 shipments. Upvote 6. Downvote Reply reply', 'The Germans gain free Uhlans with every shipment, allowing them to build up their cavalry quickly. This allows them to rush enemy colonies very quickly.', \"With the Build Order tool, you'll be able to strategize and execute your moves flawlessly, right from the start. No more stumbling around in the ...\", 'I would suggest about 5 canon + 5 dopple + 10 or 15 war wagons (1-1-2/3) ratio. quite achivable mid-fortress by using 5 dopp and 3ww shipment or just do dopple ...', 'Build Order: Standard discovery age, age up with 400 wood (as always. The nice thing about all strats listed here is that you can easily switch ...', \"Today we're going to be doing some German mercenary play I think it'll be pretty fun.\", 'From fun to very competitive build orders, but also comprehensive guides, there should be (almost :slight_smile: ) everything you need to learn more about the ...', 'The return of 180hp Uhlan. It was done before by ESOC (maybe add +5%hp to the age 4 Uhlan combat card to compensate). Keep in mind with the +5 ...']\u001b[0m\n",
      "Thought:\u001b[32;1m\u001b[1;3m I should use a search engine to find information about Age of Empires 3.\n",
      "Action: Search\n",
      "Action Input: \"best german build order in Age of Empires 3\"\u001b[0m\n",
      "Observation: \u001b[36;1m\u001b[1;3m['This guide has for purpose to help new players as well as more experienced players, to learn or improve their German gameplay.', 'The core of german strategy at high levels is based around a powerful early age 3 push using the 4 shipments. Upvote 6. Downvote Reply reply', 'The Germans gain free Uhlans with every shipment, allowing them to build up their cavalry quickly. This allows them to rush enemy colonies very quickly.', \"With the Build Order tool, you'll be able to strategize and execute your moves flawlessly, right from the start. No more stumbling around in the ...\", 'I would suggest about 5 canon + 5 dopple + 10 or 15 war wagons (1-1-2/3) ratio. quite achivable mid-fortress by using 5 dopp and 3ww shipment or just do dopple ...', 'Build Order: Standard discovery age, age up with 400 wood (as always. The nice thing about all strats listed here is that you can easily switch ...', \"Today we're going to be doing some German mercenary play I think it'll be pretty fun.\", 'From fun to very competitive build orders, but also comprehensive guides, there should be (almost :slight_smile: ) everything you need to learn more about the ...', 'The return of 180hp Uhlan. It was done before by ESOC (maybe add +5%hp to the age 4 Uhlan combat card to compensate). Keep in mind with the +5 ...']\u001b[0m\n",
      "Thought:\u001b[32;1m\u001b[1;3m I should use a search engine to find information about Age of Empires 3.\n",
      "Action: Search\n",
      "Action Input: \"best german build order in Age of Empires 3\"\u001b[0m\n",
      "Observation: \u001b[36;1m\u001b[1;3m['This guide has for purpose to help new players as well as more experienced players, to learn or improve their German gameplay.', 'The core of german strategy at high levels is based around a powerful early age 3 push using the 4 shipments. Upvote 6. Downvote Reply reply', 'The Germans gain free Uhlans with every shipment, allowing them to build up their cavalry quickly. This allows them to rush enemy colonies very quickly.', \"With the Build Order tool, you'll be able to strategize and execute your moves flawlessly, right from the start. No more stumbling around in the ...\", 'I would suggest about 5 canon + 5 dopple + 10 or 15 war wagons (1-1-2/3) ratio. quite achivable mid-fortress by using 5 dopp and 3ww shipment or just do dopple ...', 'Build Order: Standard discovery age, age up with 400 wood (as always. The nice thing about all strats listed here is that you can easily switch ...', \"Today we're going to be doing some German mercenary play I think it'll be pretty fun.\", 'From fun to very competitive build orders, but also comprehensive guides, there should be (almost :slight_smile: ) everything you need to learn more about the ...', 'The return of 180hp Uhlan. It was done before by ESOC (maybe add +5%hp to the age 4 Uhlan combat card to compensate). Keep in mind with the +5 ...']\u001b[0m\n",
      "Thought:\u001b[32;1m\u001b[1;3m I now know the final answer\n",
      "Final Answer: The best german build order in Age of Empires 3 is to focus on a powerful early age 3 push using the 4 shipments and utilizing the free Uhlans gained with each shipment. It is also recommended to have a ratio of 5 cannons, 5 doppelsoldners, and 10-15 war wagons.\u001b[0m\n",
      "\n",
      "\u001b[1m> Finished chain.\u001b[0m\n"
     ]
    }
   ],
   "source": [
    "text = agent.invoke(\"Can you tell me what the best german build order in Age of Empires 3 is?\")"
   ]
  },
  {
   "cell_type": "markdown",
   "metadata": {},
   "source": [
    "Google-search"
   ]
  },
  {
   "cell_type": "code",
   "execution_count": 6,
   "metadata": {},
   "outputs": [
    {
     "name": "stderr",
     "output_type": "stream",
     "text": [
      "/tmp/ipykernel_29870/3882450349.py:4: LangChainDeprecationWarning: The class `GoogleSearchAPIWrapper` was deprecated in LangChain 0.0.33 and will be removed in 1.0. An updated version of the class exists in the :class:`~langchain-google-community package and should be used instead. To use it run `pip install -U :class:`~langchain-google-community` and import as `from :class:`~langchain_google_community import GoogleSearchAPIWrapper``.\n",
      "  search = GoogleSearchAPIWrapper()\n"
     ]
    },
    {
     "data": {
      "text/plain": [
       "[{'title': 'Madrid - Wikipedia',\n",
       "  'link': 'https://en.wikipedia.org/wiki/Madrid',\n",
       "  'snippet': 'The capital city of both Spain and the surrounding autonomous community of Madrid (since 1983), : 44 it is also the political, economic, and cultural centre of\\xa0...'},\n",
       " {'title': 'Madrid | History, Population, Climate, Pronunciation, & Facts ...',\n",
       "  'link': 'https://www.britannica.com/place/Madrid',\n",
       "  'snippet': \"3 days ago ... Madrid, city, capital of Spain and of Madrid provincia (province). Spain's arts and financial centre, the city proper and province form a comunidad autónoma (\\xa0...\"},\n",
       " {'title': 'Interregional migration of human capital in Spain',\n",
       "  'link': 'https://www.tandfonline.com/doi/full/10.1080/21681376.2022.2060131',\n",
       "  'snippet': 'Jun 7, 2022 ... This paper analyses the internal movements of the Spanish-born population aged 25–39 between NUTS-2 regions from 1992 to 2018.'}]"
      ]
     },
     "execution_count": 6,
     "metadata": {},
     "output_type": "execute_result"
    }
   ],
   "source": [
    "# As a standalone utility:\n",
    "from langchain. utilities import GoogleSearchAPIWrapper\n",
    "\n",
    "search = GoogleSearchAPIWrapper()\n",
    "search.results(\"What is the capital of Spain?\", 3)"
   ]
  },
  {
   "cell_type": "code",
   "execution_count": 7,
   "metadata": {},
   "outputs": [],
   "source": [
    "from langchain.llms import OpenAI\n",
    "\n",
    "llm = OpenAI(model_name=\"gpt-3.5-turbo-instruct\", temperature=0)"
   ]
  },
  {
   "cell_type": "code",
   "execution_count": 8,
   "metadata": {},
   "outputs": [
    {
     "name": "stderr",
     "output_type": "stream",
     "text": [
      "/tmp/ipykernel_29870/1405515452.py:12: LangChainDeprecationWarning: The method `Chain.__call__` was deprecated in langchain 0.1.0 and will be removed in 1.0. Use :meth:`~invoke` instead.\n",
      "  print( agent(\"What is the national drink in Spain?\") )\n"
     ]
    },
    {
     "name": "stdout",
     "output_type": "stream",
     "text": [
      "\n",
      "\n",
      "\u001b[1m> Entering new AgentExecutor chain...\u001b[0m\n",
      "\u001b[32;1m\u001b[1;3m I should always think about what to do\n",
      "Action: google_search\n",
      "Action Input: \"national drink in Spain\"\u001b[0m\n",
      "Observation: \u001b[36;1m\u001b[1;3mSpain rivals England as the biggest drinkers of gin in Europe, and it is the biggest market for gin in the world per capita. Having a drink is something for enjoyment, so it can accompany lunch, dinner, or be an afternoon treat. Here are 8 popular Spanish drinks that the locals love. Aug 29, 2024 ... From the refreshing sweetness of sangria to the crisp tartness of sidra, these beverages capture the essence of Spanish culture and the country's diverse ... Jul 28, 2022 ... Beer is the favorite drink of the Spaniards. Whether it is a low-strength blonde beer (usually 5% alcohol), or if it is hot a \"clara\" (blonde beer with soda or ... The famous drink of Spain, that absolutely everyone knows about, is the Sangria. You probably didn´t know it, but the Sangria is just the touristy version of ... Apr 20, 2021 ... Below we have compiled a list of famous Spanish drinks, helping to guide you towards choosing the best beverage any occasion! \"Very Old Rare Sherry\", Pedro Ximenez by Garvey. Jerez de la Frontera (Andalusia, Spain), aged 30 years. Sherry is a national liquor of Spain. Jun 15, 2024 ... Where were you that didn't have brandy? It is a bit out of fashion, but brandy has been the staple distiled beverage in Spain for ages ... There ... Nov 27, 2012 ... The fervor with which Spaniards drink gin & tonics is, to say the least, impressive. All ... national drink (and that ampersands are expendable). Today is National Drink Wine Day. Did you know that Spain is one of the world's main producers of wine, with 3 million (!) acres planted? Which is your...\u001b[0m\n",
      "Thought:\u001b[32;1m\u001b[1;3m I now know the final answer\n",
      "Final Answer: The national drink in Spain is a tie between gin and wine, with gin being the most popular among locals and wine being one of the country's main exports. Other popular drinks include sangria, beer, sherry, and brandy.\u001b[0m\n",
      "\n",
      "\u001b[1m> Finished chain.\u001b[0m\n",
      "{'input': 'What is the national drink in Spain?', 'output': \"The national drink in Spain is a tie between gin and wine, with gin being the most popular among locals and wine being one of the country's main exports. Other popular drinks include sangria, beer, sherry, and brandy.\"}\n"
     ]
    }
   ],
   "source": [
    "from langchain.agents import initialize_agent, load_tools, AgentType\n",
    "\n",
    "tools = load_tools([\"google-search\"])\n",
    "\n",
    "agent = initialize_agent(\n",
    "    tools,\n",
    "    llm,\n",
    "    agent=AgentType.ZERO_SHOT_REACT_DESCRIPTION,\n",
    "    verbose=True  \n",
    ")\n",
    "\n",
    "print( agent(\"What is the national drink in Spain?\") )"
   ]
  }
 ],
 "metadata": {
  "kernelspec": {
   "display_name": "Python 3",
   "language": "python",
   "name": "python3"
  },
  "language_info": {
   "codemirror_mode": {
    "name": "ipython",
    "version": 3
   },
   "file_extension": ".py",
   "mimetype": "text/x-python",
   "name": "python",
   "nbconvert_exporter": "python",
   "pygments_lexer": "ipython3",
   "version": "3.10.12"
  }
 },
 "nbformat": 4,
 "nbformat_minor": 2
}
