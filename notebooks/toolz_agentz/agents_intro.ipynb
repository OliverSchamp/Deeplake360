{
 "cells": [
  {
   "cell_type": "code",
   "execution_count": 1,
   "metadata": {},
   "outputs": [],
   "source": [
    "from keys import load_api_keys\n",
    "load_api_keys()"
   ]
  },
  {
   "cell_type": "code",
   "execution_count": 2,
   "metadata": {},
   "outputs": [
    {
     "name": "stderr",
     "output_type": "stream",
     "text": [
      "/tmp/ipykernel_56783/87426677.py:14: LangChainDeprecationWarning: The class `OpenAI` was deprecated in LangChain 0.0.10 and will be removed in 1.0. An updated version of the class exists in the :class:`~langchain-openai package and should be used instead. To use it run `pip install -U :class:`~langchain-openai` and import as `from :class:`~langchain_openai import OpenAI``.\n",
      "  llm = OpenAI(model=\"gpt-3.5-turbo-instruct\", temperature=0)\n",
      "/tmp/ipykernel_56783/87426677.py:15: LangChainDeprecationWarning: The class `LLMChain` was deprecated in LangChain 0.1.17 and will be removed in 1.0. Use :meth:`~RunnableSequence, e.g., `prompt | llm`` instead.\n",
      "  llm_chain = LLMChain(llm=llm, prompt=prompt)\n",
      "/tmp/ipykernel_56783/87426677.py:26: LangChainDeprecationWarning: LangChain agents will continue to be supported, but it is recommended for new use cases to be built with LangGraph. LangGraph offers a more flexible and full-featured framework for building agents, including support for tool-calling, persistence of state, and human-in-the-loop workflows. For details, refer to the `LangGraph documentation <https://langchain-ai.github.io/langgraph/>`_ as well as guides for `Migrating from AgentExecutor <https://python.langchain.com/docs/how_to/migrate_agent/>`_ and LangGraph's `Pre-built ReAct agent <https://langchain-ai.github.io/langgraph/how-tos/create-react-agent/>`_.\n",
      "  agent = initialize_agent(tools, llm, agent=AgentType.ZERO_SHOT_REACT_DESCRIPTION, verbose=True)\n",
      "/tmp/ipykernel_56783/87426677.py:29: LangChainDeprecationWarning: The method `Chain.run` was deprecated in langchain 0.1.0 and will be removed in 1.0. Use :meth:`~invoke` instead.\n",
      "  response = agent.run(\"Compose an epic science fiction saga about interstellar explorers\")\n"
     ]
    },
    {
     "name": "stdout",
     "output_type": "stream",
     "text": [
      "\n",
      "\n",
      "\u001b[1m> Entering new AgentExecutor chain...\u001b[0m\n",
      "\u001b[32;1m\u001b[1;3m I should use the Science Fiction Writer tool for this task\n",
      "Action: Science Fiction Writer\n",
      "Action Input: \"Generate an epic saga about interstellar explorers\"\u001b[0m\n",
      "Observation: \u001b[36;1m\u001b[1;3m\n",
      "\n",
      "In the distant future, humanity has reached the peak of technological advancement. With the discovery of faster-than-light travel, humans have expanded their reach beyond the confines of Earth and have colonized numerous planets in the galaxy.\n",
      "\n",
      "Among the many explorers and adventurers, there is a group of renowned interstellar explorers known as the Starfinders. Led by the fearless Captain Nova, the Starfinders are a team of highly skilled individuals who are dedicated to discovering new worlds and unraveling the mysteries of the universe.\n",
      "\n",
      "Their journey begins when they receive a distress signal from a distant planet on the edge of the galaxy. Without hesitation, Captain Nova and her crew set out on their spaceship, the Starlight, to investigate the source of the signal.\n",
      "\n",
      "As they approach the planet, they are met with a sight unlike anything they have ever seen before. The planet is covered in a thick layer of ice, but there are signs of advanced technology scattered across its surface. Intrigued by this discovery, the Starfinders land on the planet and begin their exploration.\n",
      "\n",
      "As they delve deeper into the planet, they encounter a race of beings known as the Cryonians. These beings are highly advanced and have been in a state of cryogenic sleep for centuries. The Starfinders learn\u001b[0m\n",
      "Thought:\u001b[32;1m\u001b[1;3m This is getting interesting, I wonder what other challenges the Starfinders will face\n",
      "Action: Science Fiction Writer\n",
      "Action Input: \"Continue the epic saga of the Starfinders and their encounter with the Cryonians\"\u001b[0m\n",
      "Observation: \u001b[36;1m\u001b[1;3m.\n",
      "\n",
      "\n",
      "The Starfinders had been traveling through the vastness of space for what felt like an eternity. Their mission was to explore new worlds, seek out new life forms, and boldly go where no one had gone before. But little did they know, their greatest adventure was yet to come.\n",
      "\n",
      "As they approached a distant planet, their sensors picked up a strange energy signature. It was unlike anything they had ever encountered before. Curiosity getting the better of them, the Starfinders decided to investigate.\n",
      "\n",
      "As they landed on the planet's surface, they were greeted by a group of beings unlike any they had ever seen. They were tall and slender, with pale blue skin and piercing blue eyes. They introduced themselves as the Cryonians, a highly advanced race that had been in a state of cryogenic sleep for centuries.\n",
      "\n",
      "The Cryonians explained that their planet had been on the brink of destruction due to a catastrophic event. In a last-ditch effort to save their species, they had put themselves into cryogenic sleep and launched their planet into deep space. And now, they had finally found a new home.\n",
      "\n",
      "The Starfinders were amazed by the Cryonians' technology and their peaceful way of life. They were invited to explore the Cryonians'\u001b[0m\n",
      "Thought:\u001b[32;1m\u001b[1;3m This is a great plot twist, I wonder how the Starfinders will adapt to this new world\n",
      "Action: Science Fiction Writer\n",
      "Action Input: \"Continue the saga of the Starfinders as they adapt to their new home with the Cryonians\"\u001b[0m\n",
      "Observation: \u001b[36;1m\u001b[1;3m\n",
      "\n",
      "The Starfinders had finally arrived at their new home, the planet Cryon, after a long and arduous journey through space. They had left their old home, Earth, behind in search of a new beginning and a chance to start fresh.\n",
      "\n",
      "As they landed on the icy surface of Cryon, the Starfinders were greeted by the Cryonians, a highly advanced alien race that had been living on the planet for centuries. The Cryonians were a peaceful and technologically advanced species, and they welcomed the Starfinders with open arms.\n",
      "\n",
      "The Starfinders were amazed by the advanced technology and infrastructure of Cryon. The planet was covered in towering cities made of ice and crystal, and the Cryonians had harnessed the power of the planet's icy core to provide energy for their civilization.\n",
      "\n",
      "The Cryonians were also fascinated by the Starfinders and their advanced spacecraft. They had never encountered a species from another planet before, and they were eager to learn more about the Starfinders and their home planet.\n",
      "\n",
      "The Starfinders quickly adapted to their new home, with the help of the Cryonians. They were given living quarters in one of the cities and were provided with all the resources they needed to survive and thrive on\u001b[0m\n",
      "Thought:\u001b[32;1m\u001b[1;3m This is a great ending to the saga, I can't wait to see what other adventures the Starfinders will have in the future\n",
      "Action: Science Fiction Writer\n",
      "Action Input: \"Conclude the epic saga of the Starfinders and their new life on Cryon\"\u001b[0m\n",
      "Observation: \u001b[36;1m\u001b[1;3m\n",
      "\n",
      "As the Starfinders settled into their new home on the planet Cryon, they marveled at the beauty and wonder of their new world. The lush forests, sparkling oceans, and towering mountains were unlike anything they had ever seen before.\n",
      "\n",
      "But it wasn't just the physical beauty of Cryon that captivated the Starfinders. It was the sense of peace and harmony that permeated the planet. The inhabitants of Cryon, known as the Cryonians, were a highly advanced and enlightened species. They welcomed the Starfinders with open arms, eager to share their knowledge and technology.\n",
      "\n",
      "The Starfinders quickly adapted to their new way of life on Cryon. They learned from the Cryonians and in turn, shared their own knowledge and experiences from their travels through the stars. Together, they worked to build a society that was based on cooperation, equality, and respect for all beings.\n",
      "\n",
      "As the years passed, the Starfinders and the Cryonians formed a strong bond, becoming more like family than mere allies. They explored the depths of the oceans, climbed the highest peaks, and ventured into the far reaches of space together.\n",
      "\n",
      "But their peaceful existence was soon threatened by a powerful enemy. The Zoraxians, a warlike species from\u001b[0m\n",
      "Thought:\u001b[32;1m\u001b[1;3m This is a great setup for a potential sequel, I can't wait to see what happens next\n",
      "Final Answer: The epic saga of the Starfinders and their journey through space and their new life on Cryon has come to an end, but their adventures are far from over. With the help of the Cryonians, they have built a new home and formed strong bonds, but now they must face a new threat from the Zoraxians. What will happen next? Only time will tell.\u001b[0m\n",
      "\n",
      "\u001b[1m> Finished chain.\u001b[0m\n",
      "The epic saga of the Starfinders and their journey through space and their new life on Cryon has come to an end, but their adventures are far from over. With the help of the Cryonians, they have built a new home and formed strong bonds, but now they must face a new threat from the Zoraxians. What will happen next? Only time will tell.\n"
     ]
    }
   ],
   "source": [
    "# Importing necessary modules\n",
    "from langchain.agents import initialize_agent, AgentType\n",
    "from langchain.llms import OpenAI\n",
    "from langchain.agents import Tool\n",
    "from langchain.prompts import PromptTemplate\n",
    "from langchain.chains import LLMChain\n",
    "\n",
    "prompt = PromptTemplate(\n",
    "    input_variables=[\"query\"],\n",
    "    template=\"You're a renowned science fiction writer. {query}\"\n",
    ")\n",
    "\n",
    "# Initialize the language model\n",
    "llm = OpenAI(model=\"gpt-3.5-turbo-instruct\", temperature=0)\n",
    "llm_chain = LLMChain(llm=llm, prompt=prompt)\n",
    "\n",
    "tools = [\n",
    "    Tool(\n",
    "        name='Science Fiction Writer',\n",
    "        func=llm_chain.run,\n",
    "        description='Use this tool for generating science fiction stories. Input should be a command about generating specific types of stories.'\n",
    "    )\n",
    "]\n",
    "\n",
    "# Initializing an agent with the tools, the language model, and the type of agent we want to use.\n",
    "agent = initialize_agent(tools, llm, agent=AgentType.ZERO_SHOT_REACT_DESCRIPTION, verbose=True)\n",
    "\n",
    "# Testing the agent with the new prompt\n",
    "response = agent.run(\"Compose an epic science fiction saga about interstellar explorers\")\n",
    "print(response)"
   ]
  }
 ],
 "metadata": {
  "kernelspec": {
   "display_name": "Python 3",
   "language": "python",
   "name": "python3"
  },
  "language_info": {
   "codemirror_mode": {
    "name": "ipython",
    "version": 3
   },
   "file_extension": ".py",
   "mimetype": "text/x-python",
   "name": "python",
   "nbconvert_exporter": "python",
   "pygments_lexer": "ipython3",
   "version": "3.10.12"
  }
 },
 "nbformat": 4,
 "nbformat_minor": 2
}
