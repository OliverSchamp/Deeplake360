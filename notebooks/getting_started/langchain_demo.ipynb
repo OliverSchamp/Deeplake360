{
 "cells": [
  {
   "cell_type": "code",
   "execution_count": null,
   "metadata": {},
   "outputs": [],
   "source": [
    "from keys import load_api_keys\n",
    "load_api_keys()"
   ]
  },
  {
   "cell_type": "code",
   "execution_count": null,
   "metadata": {
    "colab": {
     "base_uri": "https://localhost:8080/"
    },
    "id": "B9hBmX2axisi",
    "outputId": "96b998c4-3bbc-4f59-b621-5e4200665c76"
   },
   "outputs": [],
   "source": [
    "from langchain.chat_models import ChatOpenAI\n",
    "from langchain.prompts.chat import (\n",
    "    ChatPromptTemplate,\n",
    "    SystemMessagePromptTemplate,\n",
    "    HumanMessagePromptTemplate,\n",
    ")\n",
    "\n",
    "chat = ChatOpenAI(model_name=\"gpt-3.5-turbo-1106\", temperature=0)\n",
    "\n",
    "template = \"You are an assistant that helps users find information about movies.\"\n",
    "system_message_prompt = SystemMessagePromptTemplate.from_template(template)\n",
    "human_template = \"Find information about the movie {movie_title}.\"\n",
    "human_message_prompt = HumanMessagePromptTemplate.from_template(human_template)\n",
    "\n",
    "chat_prompt = ChatPromptTemplate.from_messages([system_message_prompt, human_message_prompt])\n",
    "\n",
    "response = chat(chat_prompt.format_prompt(movie_title=\"Inception\").to_messages())\n",
    "\n",
    "print(response.content)"
   ]
  },
  {
   "cell_type": "markdown",
   "metadata": {
    "id": "ct6UVdwoycvq"
   },
   "source": [
    "# ===="
   ]
  },
  {
   "cell_type": "code",
   "execution_count": null,
   "metadata": {
    "id": "8Aq0Gw1Ux5E5"
   },
   "outputs": [],
   "source": [
    "# Import necessary modules\n",
    "from langchain.chat_models import ChatOpenAI\n",
    "from langchain import PromptTemplate\n",
    "from langchain.chains.summarize import load_summarize_chain\n",
    "from langchain.document_loaders import PyPDFLoader"
   ]
  },
  {
   "cell_type": "code",
   "execution_count": null,
   "metadata": {
    "id": "HiLQa1ExPY3q"
   },
   "outputs": [],
   "source": [
    "# Initialize language model\n",
    "llm = ChatOpenAI(model_name=\"gpt-3.5-turbo-1106\", temperature=0)"
   ]
  },
  {
   "cell_type": "code",
   "execution_count": null,
   "metadata": {
    "id": "CFNqeufiyj7a"
   },
   "outputs": [],
   "source": [
    "# Load the summarization chain\n",
    "summarize_chain = load_summarize_chain(llm)"
   ]
  },
  {
   "cell_type": "markdown",
   "metadata": {
    "id": "HWZchXOizjCq"
   },
   "source": [
    "Download file from: https://www.cheat-sheets.org/saved-copy/The%20One%20Page%20Linux%20Manual.pdf"
   ]
  },
  {
   "cell_type": "code",
   "execution_count": null,
   "metadata": {
    "colab": {
     "base_uri": "https://localhost:8080/"
    },
    "id": "xdfEiS0AQPXq",
    "outputId": "558e21c0-e998-4e5c-c548-55a5fd9b0e06"
   },
   "outputs": [],
   "source": [
    "!wget https://www.cheat-sheets.org/saved-copy/The%20One%20Page%20Linux%20Manual.pdf"
   ]
  },
  {
   "cell_type": "code",
   "execution_count": null,
   "metadata": {
    "id": "cC4g9vFgyqSa"
   },
   "outputs": [],
   "source": [
    "# Load the document using PyPDFLoader\n",
    "document_loader = PyPDFLoader(file_path=\"./The One Page Linux Manual.pdf\")\n",
    "document = document_loader.load()"
   ]
  },
  {
   "cell_type": "code",
   "execution_count": null,
   "metadata": {
    "id": "fauNaJMbytqk"
   },
   "outputs": [],
   "source": [
    "# Summarize the document\n",
    "summary = summarize_chain(document)"
   ]
  },
  {
   "cell_type": "code",
   "execution_count": null,
   "metadata": {
    "colab": {
     "base_uri": "https://localhost:8080/"
    },
    "id": "DUvzQ37JzP6e",
    "outputId": "c28735e7-ffb9-4b3f-adf8-ce0fa10c845a"
   },
   "outputs": [],
   "source": [
    "print(summary['output_text'])"
   ]
  },
  {
   "cell_type": "markdown",
   "metadata": {
    "id": "5s7rtCx7zlo4"
   },
   "source": [
    "# ====="
   ]
  },
  {
   "cell_type": "code",
   "execution_count": null,
   "metadata": {
    "id": "2XTRA4IgzmIN"
   },
   "outputs": [],
   "source": [
    "from langchain.prompts import PromptTemplate\n",
    "from langchain.chains import LLMChain\n",
    "from langchain.chat_models import ChatOpenAI\n",
    "\n",
    "prompt = PromptTemplate(template=\"Question: {question}\\nAnswer:\", input_variables=[\"question\"])\n",
    "\n",
    "llm = ChatOpenAI(model_name=\"gpt-3.5-turbo-1106\", temperature=0)\n",
    "chain = LLMChain(llm=llm, prompt=prompt)"
   ]
  },
  {
   "cell_type": "code",
   "execution_count": null,
   "metadata": {
    "colab": {
     "base_uri": "https://localhost:8080/",
     "height": 89
    },
    "id": "IX0AbaAT1CpO",
    "outputId": "d0a9b24a-c6b1-459e-8a6a-2e94ecb6d25c"
   },
   "outputs": [],
   "source": [
    "chain.run(\"what is the meaning of life?\")"
   ]
  },
  {
   "cell_type": "code",
   "execution_count": null,
   "metadata": {
    "id": "ib-dU07u1EL_"
   },
   "outputs": [],
   "source": []
  }
 ],
 "metadata": {
  "colab": {
   "provenance": []
  },
  "kernelspec": {
   "display_name": "Python 3",
   "name": "python3"
  },
  "language_info": {
   "codemirror_mode": {
    "name": "ipython",
    "version": 3
   },
   "file_extension": ".py",
   "mimetype": "text/x-python",
   "name": "python",
   "nbconvert_exporter": "python",
   "pygments_lexer": "ipython3",
   "version": "3.10.6"
  }
 },
 "nbformat": 4,
 "nbformat_minor": 0
}
